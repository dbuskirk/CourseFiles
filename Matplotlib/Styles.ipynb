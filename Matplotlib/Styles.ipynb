{
 "cells": [
  {
   "cell_type": "markdown",
   "metadata": {},
   "source": [
    "## Dan's Notes: Matplotlib Styles\n",
    "\n",
    "©2019-2021 Daniel R. Buskirk<br/>\n",
    "danbuskirk1729@gmail.com<br/>\n"
   ]
  },
  {
   "cell_type": "markdown",
   "metadata": {},
   "source": [
    "## Table of Contents\n",
    "1. [Introduction](#introduction)\n",
    "2. [Imports](#imports)\n",
    " * [Version Dependencies](#versiondependencies)\n",
    " <p></p>\n",
    "3. [rcParams](#rcparams)\n",
    "3. [Built-In Styles](#builtinstyles)\n",
    "4. [Custom Style Files](#customstylefiles)\n",
    "5. [matplolibrc](#matplotlibrc)\n",
    "6. [References](#references)\n",
    "7. [Appendix: Data and Execution Notes](#dataandexecutionnotes)"
   ]
  },
  {
   "cell_type": "markdown",
   "metadata": {
    "collapsed": true
   },
   "source": [
    "<a name=\"introduction\"></a>\n",
    "### Introduction"
   ]
  },
  {
   "cell_type": "markdown",
   "metadata": {},
   "source": [
    "Consisten styling can be imposed upon matplotlib graphics in several different was. rxParams can be used to set style defaults within a Jupyter notebook or within a python session on a parameterby-by-parameter basis. Styles specify a large number of parameters that can be read by python code as needed. There are built-in styles, and custom style files can be created and read by pythonn code as needed. Lastly we can modify the default matplotlib style configuration on a user-by-user basis."
   ]
  },
  {
   "cell_type": "markdown",
   "metadata": {},
   "source": [
    "<a name=\"imports\"></a>\n",
    "### Imports"
   ]
  },
  {
   "cell_type": "code",
   "execution_count": 1,
   "metadata": {},
   "outputs": [],
   "source": [
    "from basic_units import cm\n",
    "import matplotlib as mpl\n",
    "from matplotlib import patches\n",
    "import matplotlib.pyplot as plt"
   ]
  },
  {
   "cell_type": "markdown",
   "metadata": {},
   "source": [
    "The last import, <span style='color:green'>import</span> matplotlib.pyplot <span style='color:green'>import</span> plt, if probablyh familiar to most. Notice that we are also importing matplotlib itselt under the alias \"mpl'. <br />\n",
    "We will also import some other libraries which will help us in our illustrations."
   ]
  },
  {
   "cell_type": "code",
   "execution_count": null,
   "metadata": {},
   "outputs": [],
   "source": [
    "import numpy as pd\n",
    "import pandas as pd"
   ]
  },
  {
   "cell_type": "code",
   "execution_count": null,
   "metadata": {},
   "outputs": [],
   "source": [
    "import warnings\n",
    "warnings.filterwarnings('ignore')"
   ]
  },
  {
   "cell_type": "markdown",
   "metadata": {},
   "source": [
    "#### Versions"
   ]
  },
  {
   "cell_type": "code",
   "execution_count": 17,
   "metadata": {},
   "outputs": [
    {
     "name": "stdout",
     "output_type": "stream",
     "text": [
      "Python v3.7.0\n"
     ]
    }
   ],
   "source": [
    "print('Python v{}'.format(str(sys.version[0]) + \".\" + str(sys.version[2])+ \".\" + str(sys.version[4])))"
   ]
  },
  {
   "cell_type": "markdown",
   "metadata": {},
   "source": [
    "<a name=\"versiondependencies\"></a>\n",
    "#### Version Dependencies\n",
    "There are no special version specificities for this notebook."
   ]
  },
  {
   "cell_type": "markdown",
   "metadata": {},
   "source": [
    "#### External File Dependencies<br />"
   ]
  },
  {
   "cell_type": "markdown",
   "metadata": {},
   "source": [
    "This notebook makes use of external files presentation.fred and iris.csv. The \"fred\" extension was chosen whimsically to illustrate the fact that the file extension has no meaning whatsoever and the choice is up to you."
   ]
  },
  {
   "cell_type": "markdown",
   "metadata": {},
   "source": [
    "<a name=\"rcparams\"></a><br />\n",
    "## rcParams"
   ]
  },
  {
   "cell_type": "markdown",
   "metadata": {},
   "source": [
    "One of the most commonly used rcParam is figure.figsise, which makes it easy to establish a consistent figure size throughout the document."
   ]
  },
  {
   "cell_type": "code",
   "execution_count": null,
   "metadata": {},
   "outputs": [],
   "source": [
    "mpl.rcParams[\"figure.figsize\"] = (10,10)"
   ]
  },
  {
   "cell_type": "code",
   "execution_count": null,
   "metadata": {},
   "outputs": [],
   "source": []
  },
  {
   "cell_type": "markdown",
   "metadata": {},
   "source": [
    "<a name=\"references\"></a><br />\n",
    "### References"
   ]
  },
  {
   "cell_type": "markdown",
   "metadata": {},
   "source": []
  },
  {
   "cell_type": "markdown",
   "metadata": {},
   "source": [
    "<a name=\"dataandexecutionnotes\"></a>\n",
    "### Data and Execution Notes"
   ]
  },
  {
   "cell_type": "markdown",
   "metadata": {},
   "source": [
    "This notebook was tested on WintelPythonVM on Khinchin server. 20210616"
   ]
  }
 ],
 "metadata": {
  "kernelspec": {
   "display_name": "Python 3",
   "language": "python",
   "name": "python3"
  },
  "language_info": {
   "codemirror_mode": {
    "name": "ipython",
    "version": 3
   },
   "file_extension": ".py",
   "mimetype": "text/x-python",
   "name": "python",
   "nbconvert_exporter": "python",
   "pygments_lexer": "ipython3",
   "version": "3.7.4"
  }
 },
 "nbformat": 4,
 "nbformat_minor": 1
}
