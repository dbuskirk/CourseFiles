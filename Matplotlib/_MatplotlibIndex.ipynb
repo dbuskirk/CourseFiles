{
 "cells": [
  {
   "cell_type": "markdown",
   "metadata": {},
   "source": [
    "### Matplolib Index"
   ]
  },
  {
   "cell_type": "markdown",
   "metadata": {},
   "source": [
    "### A"
   ]
  },
  {
   "cell_type": "markdown",
   "metadata": {},
   "source": [
    "#### Andrews Curves <br />\n",
    "<a href=\"00.andrews_curves-001.ipynb\">Andrews Curves Iris</a><br/>"
   ]
  },
  {
   "cell_type": "markdown",
   "metadata": {},
   "source": [
    "#### Annotations<br/>\n",
    "<a href=\"PandasPlots-Iris-Matplotlib.ipynb\">Annotation of Pandas histogram</a><br/>"
   ]
  },
  {
   "cell_type": "markdown",
   "metadata": {},
   "source": [
    "#### Axes\n",
    "##### Examples illustrating axis indices\n",
    "<a href=\"Scatterplot-AmesHousing-001.ipynb\">Ames Housing Scatterplot</a><br/>"
   ]
  },
  {
   "cell_type": "markdown",
   "metadata": {},
   "source": [
    "### B"
   ]
  },
  {
   "cell_type": "markdown",
   "metadata": {},
   "source": [
    "#### Backends\n",
    "<a href=\"Backends-VectorField-001.ipynb\">Backend experiements using vector field image.</a><br/>"
   ]
  },
  {
   "cell_type": "markdown",
   "metadata": {},
   "source": [
    "### C"
   ]
  },
  {
   "cell_type": "markdown",
   "metadata": {},
   "source": [
    "#### Curvilinear Coordinates\n",
    "<a href=\"Experiments-001.ipynb\">Curvilinear and non-orthogonal corrdinates</a><br/>"
   ]
  },
  {
   "cell_type": "markdown",
   "metadata": {},
   "source": [
    "### E"
   ]
  },
  {
   "cell_type": "markdown",
   "metadata": {},
   "source": [
    "#### Eigenvectors\n",
    "<a href=\"../seaborn/bivariate-eigen-002.ipynb\">PCA eigenvectors superimposed on bivariate data ellipse</a><br/>\n"
   ]
  },
  {
   "cell_type": "markdown",
   "metadata": {},
   "source": [
    "#### Ellipse\n",
    "<a href=\"confidence_ellipse.ipynb\">Confidence ellipses for bivariate data</a><br/>\n",
    "<a href=\"../seaborn/bivariate-eigen-002.ipynb\">PCA eigenvectors superimposed on bivariate data ellipse</a><br/>"
   ]
  },
  {
   "cell_type": "markdown",
   "metadata": {},
   "source": [
    "### P"
   ]
  },
  {
   "cell_type": "markdown",
   "metadata": {},
   "source": [
    "#### pandas.plotting module\n",
    "<a href=\"pandas.plotting-001.ipynb\">pandas.plotting-001.ipynb</a><br/>"
   ]
  },
  {
   "cell_type": "markdown",
   "metadata": {},
   "source": [
    "#### PCA<br />\n",
    "<a href=\"Yellowbrick-PCA-001.ipynb\">Yellowbrick PCA 001</a><br />\n"
   ]
  },
  {
   "cell_type": "markdown",
   "metadata": {},
   "source": [
    "### R"
   ]
  },
  {
   "cell_type": "markdown",
   "metadata": {},
   "source": [
    "#### Radviz<br />\n",
    "<a href=\"00.pandas.radviz-Iris-001.ipynb\">Radviz Iris<br/>\n",
    "<a href=\"00.pandas.radviz-mpg-001.ipynb\">Radviz mpg<br/>\n",
    " <a href=\"00.pandas.radviz-wine.ipynb\">Radviz Wine</a><br />"
   ]
  },
  {
   "cell_type": "markdown",
   "metadata": {},
   "source": [
    "### T"
   ]
  },
  {
   "cell_type": "markdown",
   "metadata": {},
   "source": [
    "#### Transform\n",
    "The <a href=\"affine_image.ipynb\">affine_image</a> example from Matplotlib is extended to include examples of performing a linear transformation using a numpy matrix."
   ]
  },
  {
   "cell_type": "code",
   "execution_count": null,
   "metadata": {},
   "outputs": [],
   "source": []
  }
 ],
 "metadata": {
  "kernelspec": {
   "display_name": "Python 3",
   "language": "python",
   "name": "python3"
  },
  "language_info": {
   "codemirror_mode": {
    "name": "ipython",
    "version": 3
   },
   "file_extension": ".py",
   "mimetype": "text/x-python",
   "name": "python",
   "nbconvert_exporter": "python",
   "pygments_lexer": "ipython3",
   "version": "3.7.4"
  }
 },
 "nbformat": 4,
 "nbformat_minor": 2
}
