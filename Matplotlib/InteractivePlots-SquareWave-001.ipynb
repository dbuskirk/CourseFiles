{
 "cells": [
  {
   "cell_type": "code",
   "execution_count": null,
   "metadata": {},
   "outputs": [],
   "source": [
    "This example uses Jupyter widgets, not Matplotlib widgets"
   ]
  },
  {
   "cell_type": "code",
   "execution_count": 1,
   "metadata": {},
   "outputs": [],
   "source": [
    "import numpy as np\n",
    "import matplotlib.pyplot as plt\n",
    "from ipywidgets import interact, interactive, fixed, interact_manual\n",
    "import ipywidgets as widgets"
   ]
  },
  {
   "cell_type": "code",
   "execution_count": 2,
   "metadata": {},
   "outputs": [],
   "source": [
    "plt.style.use(\"ggplot\")\n",
    "\n",
    "# Setup\n",
    "x_ = np.linspace(-20,20,10000)\n",
    "\n",
    "T = 24 # controls width of square wave - larger value, wider wave\n",
    "\n",
    "\n",
    "def squareWave(x):\n",
    "    global T\n",
    "    lowerBoundLeft = (-T/2)\n",
    "    lowerBoundRight = 0\n",
    "    upperBoundLeft = 0\n",
    "    upperBoundRight = (T/2)\n",
    "    one = 1\n",
    "    negativeOne = -1\n",
    "\n",
    "    while True:\n",
    "        if (x >= lowerBoundLeft) and (x <= lowerBoundRight):\n",
    "            return negativeOne\n",
    "        elif (x >= upperBoundLeft) and (x <= upperBoundRight):\n",
    "            return one\n",
    "        else:\n",
    "            lowerBoundLeft -= T/2\n",
    "            lowerBoundRight -= T/2\n",
    "            upperBoundLeft += T/2\n",
    "            upperBoundRight += T/2\n",
    "            if one == 1:\n",
    "                one = -1\n",
    "                negativeOne = 1\n",
    "            else:\n",
    "                one = 1\n",
    "                negativeOne = -1\n",
    "\n",
    "# Bn coefficients\n",
    "def bn(n):\n",
    "    n = int(n)\n",
    "    if (n%2 != 0):\n",
    "        return 4/(np.pi*n)\n",
    "    else:\n",
    "        return 0\n",
    "\n",
    "# Wn\n",
    "def wn(n):\n",
    "    global T\n",
    "    wn = (2*np.pi*n)/T\n",
    "    return wn\n",
    "\n",
    "# Fourier Series function\n",
    "def fourierSeries(n_max,x):\n",
    "    a0 = 0\n",
    "    partialSums = a0\n",
    "    for n in range(1,n_max):\n",
    "        try:\n",
    "            partialSums = partialSums + bn(n)*np.sin(wn(n)*x)\n",
    "        except:\n",
    "            print(\"pass\")\n",
    "            pass\n",
    "    return partialSums\n",
    "\n",
    "\n",
    "y = []\n",
    "f = []\n",
    "for i in range(10000):\n",
    "    y.append(squareWave(x_[i]))\n",
    "    f.append(fourierSeries(10,x_[i]))\n",
    "    \n",
    "def generate_sum(NumHarmonics):\n",
    "   global f\n",
    "   for i in range(10000):\n",
    "        f[i] = fourierSeries(NumHarmonics, x_[i])\n",
    "   return f\n",
    "        \n",
    "\n",
    "\n"
   ]
  },
  {
   "cell_type": "markdown",
   "metadata": {},
   "source": [
    "Here we draw a plot just to ensure that every up to this point works. We have not yet gotten to the interactive part yet."
   ]
  },
  {
   "cell_type": "code",
   "execution_count": 3,
   "metadata": {},
   "outputs": [
    {
     "name": "stderr",
     "output_type": "stream",
     "text": [
      "No handles with labels found to put in legend.\n"
     ]
    },
    {
     "data": {
      "image/png": "[encoded data removed]",
      "text/plain": [
       "<Figure size 432x288 with 1 Axes>"
      ]
     },
     "metadata": {},
     "output_type": "display_data"
    }
   ],
   "source": [
    "f= generate_sum(5)\n",
    "plt.plot(x_,y,color=\"blue\")\n",
    "plt.plot(x_,f,color=\"red\")\n",
    "# plt.title(\"Fourier Series approximation number of armonics: \"+str(armonics))\n",
    "plt.legend()\n",
    "plt.show()"
   ]
  },
  {
   "cell_type": "markdown",
   "metadata": {},
   "source": [
    "We segregate into a separate function the work that needs to be re-done in response to user input. We'll call the function <b>PlotIt</b>. Note the name of the argument to this function, <b><i>NumHarmonics</i></b>, as this turns up in the widget code."
   ]
  },
  {
   "cell_type": "code",
   "execution_count": 5,
   "metadata": {},
   "outputs": [],
   "source": [
    "def plotIt(NumHarmonics):\n",
    "    generate_sum(NumHarmonics)\n",
    "    plt.plot(x_,y,color=\"blue\")\n",
    "    plt.plot(x_,f,color=\"red\")\n",
    "    # plt.title(\"Fourier Series approximation number of armonics: \"+str(armonics))\n",
    "    # plt.legend()\n",
    "    plt.show()"
   ]
  },
  {
   "cell_type": "markdown",
   "metadata": {},
   "source": [
    "Note that <b>interact( )</b> displays the result of the function call immediately. A closely related function, <b>interactive( )</b> returns an object reference that can be accessed from python code. "
   ]
  },
  {
   "cell_type": "code",
   "execution_count": 6,
   "metadata": {},
   "outputs": [
    {
     "data": {
      "application/vnd.jupyter.widget-view+json": {
       "model_id": "4a4a76cd229e4d988dd748f8d5747be6",
       "version_major": 2,
       "version_minor": 0
      },
      "text/plain": [
       "interactive(children=(IntSlider(value=1, description='NumHarmonics', max=30, min=1, step=2), Output()), _dom_c…"
      ]
     },
     "metadata": {},
     "output_type": "display_data"
    }
   ],
   "source": [
    "s = widgets.IntSlider(min=1, max=30, step=2, value=1)\n",
    "# interact(f, NumHarmonics=widgets.IntSlider(min=-10, max=30, step=1, value=10));\n",
    "test=interact(plotIt, NumHarmonics=s);\n"
   ]
  },
  {
   "cell_type": "code",
   "execution_count": 46,
   "metadata": {},
   "outputs": [
    {
     "name": "stderr",
     "output_type": "stream",
     "text": [
      "No handles with labels found to put in legend.\n"
     ]
    },
    {
     "data": {
      "image/png": "[encoded data removed]",
      "text/plain": [
       "<Figure size 432x288 with 1 Axes>"
      ]
     },
     "metadata": {},
     "output_type": "display_data"
    }
   ],
   "source": []
  },
  {
   "cell_type": "code",
   "execution_count": null,
   "metadata": {},
   "outputs": [],
   "source": []
  }
 ],
 "metadata": {
  "kernelspec": {
   "display_name": "Python 3",
   "language": "python",
   "name": "python3"
  },
  "language_info": {
   "codemirror_mode": {
    "name": "ipython",
    "version": 3
   },
   "file_extension": ".py",
   "mimetype": "text/x-python",
   "name": "python",
   "nbconvert_exporter": "python",
   "pygments_lexer": "ipython3",
   "version": "3.7.4"
  }
 },
 "nbformat": 4,
 "nbformat_minor": 2
}
